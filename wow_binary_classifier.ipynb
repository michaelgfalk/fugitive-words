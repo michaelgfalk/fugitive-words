{
  "nbformat": 4,
  "nbformat_minor": 0,
  "metadata": {
    "colab": {
      "name": "wow_binary_classifier.ipynb",
      "provenance": [],
      "collapsed_sections": [],
      "toc_visible": true,
      "include_colab_link": true
    },
    "kernelspec": {
      "name": "python3",
      "display_name": "Python 3"
    },
    "accelerator": "GPU"
  },
  "cells": [
    {
      "cell_type": "markdown",
      "metadata": {
        "id": "view-in-github",
        "colab_type": "text"
      },
      "source": [
        "<a href=\"https://colab.research.google.com/github/michaelgfalk/fugitive-words/blob/master/wow_binary_classifier.ipynb\" target=\"_parent\"><img src=\"https://colab.research.google.com/assets/colab-badge.svg\" alt=\"Open In Colab\"/></a>"
      ]
    },
    {
      "cell_type": "markdown",
      "metadata": {
        "id": "up5o6_-Inva1"
      },
      "source": [
        "# Introduction: Version 2 of foreign word detection model\n",
        "\n",
        "Initial experiments with the more general language modelling approach yielded less than satisfactory results. At best, the model seemed to be able to achieve 50% precision with 75% recall when used to discriminate Aboriginal from English words.\n",
        "\n",
        "This notebook tries a different approach: what if the problem were seen as a binary classification problem, rather than as a language modelling task."
      ]
    },
    {
      "cell_type": "code",
      "metadata": {
        "id": "bxVeDcGksyU5"
      },
      "source": [
        "import tensorflow as tf\n",
        "import numpy as np\n",
        "from tensorflow.keras.models import Model, load_model\n",
        "from tensorflow.keras.layers import Input, Dense, Concatenate, LSTM, CuDNNLSTM, Dropout\n",
        "import tensorflow.keras.backend as K\n",
        "from tensorflow.keras.preprocessing.text import Tokenizer # For one-hot encoding\n",
        "from tensorflow.keras.preprocessing.sequence import pad_sequences\n",
        "from sklearn.model_selection import train_test_split\n",
        "from google.colab import drive # For saving\n",
        "import pickle as p\n",
        "import regex as re\n",
        "import pandas as pd\n",
        "\n",
        "# Create custom metrics (needed to load/compile model)\n",
        "def prec(y_true, y_pred):\n",
        "  t_one = K.greater_equal(y_true, 0.5) # Which words are actually Aboriginal?\n",
        "  p_one = K.greater_equal(y_pred, 0.5) # Which did the model predict were Aboriginal?\n",
        "  true_pos = K.all(K.concatenate([t_one, p_one], axis = 1), axis = 1) # Which predictions were correct?\n",
        "  \n",
        "  # Cast to float\n",
        "  true_pos = K.cast(true_pos, 'float16')\n",
        "  p_one = K.cast(p_one, 'float16')\n",
        "  \n",
        "  return K.sum(true_pos) / K.sum(p_one)\n",
        "\n",
        "def rec(y_true, y_pred):\n",
        "  t_one = K.greater_equal(y_true, 0.5) # Which words are actually Aboriginal?\n",
        "  p_one = K.greater_equal(y_pred, 0.5) # Which did the model predict were Aboriginal?\n",
        "  true_pos = K.all(K.concatenate([t_one, p_one], axis = 1), axis = 1) # Correct predictions of Aboriginal words\n",
        "  \n",
        "  # Cast to float\n",
        "  true_pos = K.cast(true_pos, 'float16')\n",
        "  t_one = K.cast(t_one, 'float16')\n",
        "  \n",
        "  return K.sum(true_pos) / K.sum(t_one)"
      ],
      "execution_count": null,
      "outputs": []
    },
    {
      "cell_type": "code",
      "metadata": {
        "id": "_-Ny4zgYHTLI",
        "colab": {
          "base_uri": "https://localhost:8080/",
          "height": 122
        },
        "outputId": "a5c72ba4-e940-4b2b-cea3-e62b7227dbad"
      },
      "source": [
        "# Link to Google drive for disk access\n",
        "from google.colab import drive\n",
        "drive.mount('/content/gdrive')"
      ],
      "execution_count": null,
      "outputs": [
        {
          "output_type": "stream",
          "text": [
            "Go to this URL in a browser: https://accounts.google.com/o/oauth2/auth?client_id=947318989803-6bn6qk8qdgf4n4g3pfee6491hc0brc4i.apps.googleusercontent.com&redirect_uri=urn%3Aietf%3Awg%3Aoauth%3A2.0%3Aoob&scope=email%20https%3A%2F%2Fwww.googleapis.com%2Fauth%2Fdocs.test%20https%3A%2F%2Fwww.googleapis.com%2Fauth%2Fdrive%20https%3A%2F%2Fwww.googleapis.com%2Fauth%2Fdrive.photos.readonly%20https%3A%2F%2Fwww.googleapis.com%2Fauth%2Fpeopleapi.readonly&response_type=code\n",
            "\n",
            "Enter your authorization code:\n",
            "··········\n",
            "Mounted at /content/gdrive\n"
          ],
          "name": "stdout"
        }
      ]
    },
    {
      "cell_type": "code",
      "metadata": {
        "id": "mjY9UAbzy0qP"
      },
      "source": [
        "# set random seed for notebook\n",
        "random_seed = 691"
      ],
      "execution_count": null,
      "outputs": []
    },
    {
      "cell_type": "markdown",
      "metadata": {
        "id": "GSEiD0mz8I9U"
      },
      "source": [
        "# 1. Import and clean training data\n",
        "\n",
        "For this task, we will use a different training/test set than before. Now we will use both English and Aboriginal words."
      ]
    },
    {
      "cell_type": "code",
      "metadata": {
        "id": "iRxEbpy9VZsi"
      },
      "source": [
        "def clean_text(data_frame):\n",
        "  \"\"\"Cleans the text of a data_frame, assuming it has a 'word' column.\"\"\"\n",
        "  # Drop rows with a comma or space in the word colume\n",
        "  # This should remove all of the English and phrases that creep into the 'word' column\n",
        "  filt = ~data_frame.word.str.contains(r',|\\s', na = True, regex = True)\n",
        "  data_frame = data_frame.loc[filt].reset_index(drop = True) # Need to rest index to avoid 'chained assignment' problem\n",
        "  \n",
        "  # Peform string operations\n",
        "  data_frame.loc[:,'word'] = (data_frame['word']\n",
        "                  .str.replace(r'&.{1,7};', '') # Strip out html entities\n",
        "                  .str.replace(r'\\\\N', '') # Strip out missing values written as '\\N'\n",
        "                  .str.replace(r'\\(.+\\)', '') # Strip out parenthetical comments\n",
        "                  .str.normalize('NFKD') # Strip out accents\n",
        "                  .str.encode('ascii', errors='ignore')\n",
        "                  .str.decode('utf-8') \n",
        "                  .str.replace(r'\\d|\\W|_', '') # Strip out all non-word characters and underscores\n",
        "                  .str.lower() # To lower case\n",
        "                 )\n",
        "\n",
        "  # Only keep rows with three or more characters in the OriginalForm\n",
        "  data_frame = data_frame.loc[data_frame.word.str.len() >= 3].reset_index(drop = True)\n",
        "  \n",
        "  return data_frame"
      ],
      "execution_count": null,
      "outputs": []
    },
    {
      "cell_type": "markdown",
      "metadata": {
        "id": "3IAT8hgI1AdU"
      },
      "source": [
        "## 1.1 Import Aboriginal Corpora"
      ]
    },
    {
      "cell_type": "code",
      "metadata": {
        "id": "M3spkhgl29Wl",
        "colab": {
          "base_uri": "https://localhost:8080/",
          "height": 34
        },
        "outputId": "427ec71f-0142-4372-a915-0ce9540ee21d"
      },
      "source": [
        "# Import chirila csv\n",
        "with open('/content/gdrive/My Drive/waves_of_words/chirila_data.csv') as f:\n",
        "  chirila_df = pd.read_csv(f)\n",
        "  \n",
        "chirila_df.columns = ['id', 'lang', 'word', 'row_number']\n",
        "\n",
        "print(f'There are {len(chirila_df)} words in the chirila dataset.')"
      ],
      "execution_count": null,
      "outputs": [
        {
          "output_type": "stream",
          "text": [
            "There are 229090 words in the chirila dataset.\n"
          ],
          "name": "stdout"
        }
      ]
    },
    {
      "cell_type": "code",
      "metadata": {
        "id": "6s8uwfmx85BW",
        "colab": {
          "base_uri": "https://localhost:8080/",
          "height": 34
        },
        "outputId": "e06b2cc5-24a0-497d-b791-acf39f911700"
      },
      "source": [
        "# First filter out the silly results:\n",
        "\n",
        "# Drop rows with an NaN\n",
        "chirila_df.dropna(thresh = 3, inplace = True)\n",
        "\n",
        "chirila_df = clean_text(chirila_df)\n",
        "\n",
        "# Sanity check\n",
        "print(f'After preprocessing, there are {len(chirila_df)} training examples in chirila_df.')"
      ],
      "execution_count": null,
      "outputs": [
        {
          "output_type": "stream",
          "text": [
            "After preprocessing, there are 191091 training examples in chirila_df.\n"
          ],
          "name": "stdout"
        }
      ]
    },
    {
      "cell_type": "markdown",
      "metadata": {
        "id": "U2dtlx4u09TW"
      },
      "source": [
        "## 1.2 Import English corpora"
      ]
    },
    {
      "cell_type": "code",
      "metadata": {
        "id": "td2wqkpNntO2",
        "colab": {
          "base_uri": "https://localhost:8080/",
          "height": 119
        },
        "outputId": "577f111c-4125-4bf0-abb9-5317ad46ce09"
      },
      "source": [
        "# Get training data from NLTK\n",
        "import nltk\n",
        "nltk.download('brown')\n",
        "nltk.download('reuters')\n",
        "nltk.download('gutenberg')"
      ],
      "execution_count": null,
      "outputs": [
        {
          "output_type": "stream",
          "text": [
            "[nltk_data] Downloading package brown to /root/nltk_data...\n",
            "[nltk_data]   Unzipping corpora/brown.zip.\n",
            "[nltk_data] Downloading package reuters to /root/nltk_data...\n",
            "[nltk_data] Downloading package gutenberg to /root/nltk_data...\n",
            "[nltk_data]   Unzipping corpora/gutenberg.zip.\n"
          ],
          "name": "stdout"
        },
        {
          "output_type": "execute_result",
          "data": {
            "text/plain": [
              "True"
            ]
          },
          "metadata": {
            "tags": []
          },
          "execution_count": 2
        }
      ]
    },
    {
      "cell_type": "code",
      "metadata": {
        "id": "Q8Vc6udBdv2O",
        "colab": {
          "base_uri": "https://localhost:8080/",
          "height": 51
        },
        "outputId": "e0690bb1-feb0-4408-ea56-7898ac63c4f4"
      },
      "source": [
        "# Get training data from BYU corpora samples\n",
        "byu_words = []\n",
        "with open('/content/gdrive/My Drive/waves_of_words/byu_lexicons.txt', 'r') as file:\n",
        "  for line in file:\n",
        "    line = line.rstrip() # remove trailing whitespace\n",
        "    byu_words.append(line) \n",
        "\n",
        "# Sanity check:\n",
        "print(f'There are {len(byu_words)} unique types in the byu corpora. The first five are:\\n {byu_words[0:4]}')"
      ],
      "execution_count": null,
      "outputs": [
        {
          "output_type": "stream",
          "text": [
            "There are 114097 unique types in the byu corpora. The first five are:\n",
            " ['word', 'the', 'and', 'of']\n"
          ],
          "name": "stdout"
        }
      ]
    },
    {
      "cell_type": "code",
      "metadata": {
        "id": "Mr4GcIhr4z0Y"
      },
      "source": [
        "# Combine into single wordlist\n",
        "words = set(nltk.corpus.brown.words() + nltk.corpus.reuters.words() + nltk.corpus.gutenberg.words() + byu_words)\n",
        "words = list(words)"
      ],
      "execution_count": null,
      "outputs": []
    },
    {
      "cell_type": "code",
      "metadata": {
        "id": "nvE2nfWfVD3z"
      },
      "source": [
        "# If you need it, write the English words to a .txt file\n",
        "\n",
        "#with open('/content/gdrive/My Drive/waves_of_words/english_list.txt', 'wt') as file:\n",
        "#  for word in words:\n",
        "#    file.write('%s\\n' % word)"
      ],
      "execution_count": null,
      "outputs": []
    },
    {
      "cell_type": "code",
      "metadata": {
        "id": "CKJ5r2ZEfXbV",
        "colab": {
          "base_uri": "https://localhost:8080/",
          "height": 34
        },
        "outputId": "392db33a-4954-4890-dee6-c6a779667028"
      },
      "source": [
        "# Put into compatible DataFrame\n",
        "english_data = pd.DataFrame({'lang':['english' for _ in words], 'word':words}, columns = ['lang','word'])\n",
        "\n",
        "# Apply the same preprocessing routine:\n",
        "english_data = clean_text(english_data)\n",
        "\n",
        "# Sanity check\n",
        "print(f'After preprocessing, there are {len(english_data)} training examples in english_data.')"
      ],
      "execution_count": null,
      "outputs": [
        {
          "output_type": "stream",
          "text": [
            "After preprocessing, there are 181375 training examples in english_data.\n"
          ],
          "name": "stdout"
        }
      ]
    },
    {
      "cell_type": "markdown",
      "metadata": {
        "id": "eevxmnHW1Zen"
      },
      "source": [
        "## 1.3 Combine corpora and tokenise"
      ]
    },
    {
      "cell_type": "code",
      "metadata": {
        "id": "d5kf__yFSYb8",
        "colab": {
          "base_uri": "https://localhost:8080/",
          "height": 427
        },
        "outputId": "c0b0bc83-c9a0-463a-cafa-5e978357dfc9"
      },
      "source": [
        "# Concatenate the data frames\n",
        "data = pd.concat([chirila_df[['lang','word']], english_data], ignore_index = True)\n",
        "\n",
        "# Add a y column\n",
        "data['y'] = (data.lang != 'english').astype('float') # 1 = Indigenous word, 0 = English\n",
        "\n",
        "# Sanitiy check\n",
        "print(f'There are {len(chirila_df)} rows in `chirila_df` and {len(english_data)} in `english_data`.')\n",
        "print(f'There are {data.y.sum().astype(np.int32)} Aboriginal words and {(1 - data.y.values).sum().astype(np.int32)} English words in `data`.')\n",
        "print(f'The number of rows in `data` is {len(data)}')\n",
        "\n",
        "# Add start and end characters\n",
        "data['word'] = data['word'].apply(lambda x: 'S' + x + 'E')\n",
        "\n",
        "print('Ten random rows from `data`:')\n",
        "data.sample(10)"
      ],
      "execution_count": null,
      "outputs": [
        {
          "output_type": "stream",
          "text": [
            "There are 191091 rows in `chirila_df` and 181375 in `english_data`.\n",
            "There are 191091 Aboriginal words and 181375 English words in `data`.\n",
            "The number of rows in `data` is 372466\n",
            "Ten random rows from `data`:\n"
          ],
          "name": "stdout"
        },
        {
          "output_type": "execute_result",
          "data": {
            "text/html": [
              "<div>\n",
              "<style scoped>\n",
              "    .dataframe tbody tr th:only-of-type {\n",
              "        vertical-align: middle;\n",
              "    }\n",
              "\n",
              "    .dataframe tbody tr th {\n",
              "        vertical-align: top;\n",
              "    }\n",
              "\n",
              "    .dataframe thead th {\n",
              "        text-align: right;\n",
              "    }\n",
              "</style>\n",
              "<table border=\"1\" class=\"dataframe\">\n",
              "  <thead>\n",
              "    <tr style=\"text-align: right;\">\n",
              "      <th></th>\n",
              "      <th>lang</th>\n",
              "      <th>word</th>\n",
              "      <th>y</th>\n",
              "    </tr>\n",
              "  </thead>\n",
              "  <tbody>\n",
              "    <tr>\n",
              "      <th>225492</th>\n",
              "      <td>english</td>\n",
              "      <td>SleanjawedE</td>\n",
              "      <td>0.0</td>\n",
              "    </tr>\n",
              "    <tr>\n",
              "      <th>212029</th>\n",
              "      <td>english</td>\n",
              "      <td>SemmalineE</td>\n",
              "      <td>0.0</td>\n",
              "    </tr>\n",
              "    <tr>\n",
              "      <th>315902</th>\n",
              "      <td>english</td>\n",
              "      <td>SyeeE</td>\n",
              "      <td>0.0</td>\n",
              "    </tr>\n",
              "    <tr>\n",
              "      <th>199279</th>\n",
              "      <td>english</td>\n",
              "      <td>SmajkerzieE</td>\n",
              "      <td>0.0</td>\n",
              "    </tr>\n",
              "    <tr>\n",
              "      <th>369963</th>\n",
              "      <td>english</td>\n",
              "      <td>SskycarvingE</td>\n",
              "      <td>0.0</td>\n",
              "    </tr>\n",
              "    <tr>\n",
              "      <th>98242</th>\n",
              "      <td>Narungga</td>\n",
              "      <td>SngaruE</td>\n",
              "      <td>1.0</td>\n",
              "    </tr>\n",
              "    <tr>\n",
              "      <th>367965</th>\n",
              "      <td>english</td>\n",
              "      <td>ScastillaE</td>\n",
              "      <td>0.0</td>\n",
              "    </tr>\n",
              "    <tr>\n",
              "      <th>208438</th>\n",
              "      <td>english</td>\n",
              "      <td>SlookedE</td>\n",
              "      <td>0.0</td>\n",
              "    </tr>\n",
              "    <tr>\n",
              "      <th>284414</th>\n",
              "      <td>english</td>\n",
              "      <td>SfoodE</td>\n",
              "      <td>0.0</td>\n",
              "    </tr>\n",
              "    <tr>\n",
              "      <th>94748</th>\n",
              "      <td>Mithaka</td>\n",
              "      <td>SkirkindariE</td>\n",
              "      <td>1.0</td>\n",
              "    </tr>\n",
              "  </tbody>\n",
              "</table>\n",
              "</div>"
            ],
            "text/plain": [
              "            lang          word    y\n",
              "225492   english   SleanjawedE  0.0\n",
              "212029   english    SemmalineE  0.0\n",
              "315902   english         SyeeE  0.0\n",
              "199279   english   SmajkerzieE  0.0\n",
              "369963   english  SskycarvingE  0.0\n",
              "98242   Narungga       SngaruE  1.0\n",
              "367965   english    ScastillaE  0.0\n",
              "208438   english      SlookedE  0.0\n",
              "284414   english        SfoodE  0.0\n",
              "94748    Mithaka  SkirkindariE  1.0"
            ]
          },
          "metadata": {
            "tags": []
          },
          "execution_count": 76
        }
      ]
    },
    {
      "cell_type": "code",
      "metadata": {
        "id": "CWG_l7xQxUYA"
      },
      "source": [
        "# Format for tensorflow\n",
        "tkzr = Tokenizer(lower = False, char_level = True, oov_token = \"?\", filters = None) # out-of-vocab character represented by ?\n",
        "tkzr.fit_on_texts(data['word'])\n",
        "seq_list = tkzr.texts_to_sequences(data['word'])\n",
        "X = pad_sequences(seq_list, padding = 'pre', truncating = 'pre', maxlen = 20) # Cap the length of the sequnces at 20 characters"
      ],
      "execution_count": null,
      "outputs": []
    },
    {
      "cell_type": "code",
      "metadata": {
        "id": "3Up8opN_Zfmj"
      },
      "source": [
        "# Save data for later use\n",
        "with open('/content/gdrive/My Drive/waves_of_words/20190306_binary_model_data_and_tkzr.p', 'wb') as f:\n",
        "  p.dump((data, tkzr), f)"
      ],
      "execution_count": null,
      "outputs": []
    },
    {
      "cell_type": "code",
      "metadata": {
        "id": "SCguduw6L6ND"
      },
      "source": [
        "# If revisiting this notebook, import the data:\n",
        "with open('/content/gdrive/My Drive/waves_of_words/20190306_binary_model_data_and_tkzr.p', 'rb') as f:\n",
        "  data, tkzr = p.load(f)"
      ],
      "execution_count": null,
      "outputs": []
    },
    {
      "cell_type": "code",
      "metadata": {
        "id": "t8bv6ScN_cVz",
        "colab": {
          "base_uri": "https://localhost:8080/",
          "height": 136
        },
        "outputId": "16907700-52d5-4a99-8f8a-75ce3429a774"
      },
      "source": [
        "# Get dimensions\n",
        "# Convert data to one-hot encoding\n",
        "\n",
        "# Make sure that you're working with the right X\n",
        "assert len(X.shape) == 2\n",
        "\n",
        "print(f'Data dimensions before one-hot-encoding: {X.shape}')\n",
        "X = tf.keras.utils.to_categorical(X, dtype = 'float32') # For some reason Tensorflow requires a float input\n",
        "print(f'Data dimensions after one-hot-encoding: {X.shape}')\n",
        "X = X[:,:,1:] # Drop padding (we don't want the LSTM to learn a feature for an empty timestep)\n",
        "print(f'Data dimensions after dropping padding feature: {X.shape}')\n",
        "m, t, n = X.shape\n",
        "\n",
        "# Shuffle and split\n",
        "X_train, X_test, y_train, y_test = train_test_split(X, data['y'], test_size = 0.1, random_state = random_seed, stratify = data['y'])\n",
        "\n",
        "# Sanity check\n",
        "print(f'The shape of X_train is {X_train.shape}')\n",
        "print(f'The shape of X_test is {X_test.shape}')\n",
        "print(f'The shape of y_train is {y_train.shape}')\n",
        "print(f'The shape of y_test is {y_test.shape}')"
      ],
      "execution_count": null,
      "outputs": [
        {
          "output_type": "stream",
          "text": [
            "Data dimensions before one-hot-encoding: (372466, 20)\n",
            "Data dimensions after one-hot-encoding: (372466, 20, 30)\n",
            "Data dimensions after dropping padding feature: (372466, 20, 29)\n",
            "The shape of X_train is (335219, 20, 29)\n",
            "The shape of X_test is (37247, 20, 29)\n",
            "The shape of y_train is (335219,)\n",
            "The shape of y_test is (37247,)\n"
          ],
          "name": "stdout"
        }
      ]
    },
    {
      "cell_type": "markdown",
      "metadata": {
        "id": "5lK4gsIu8awu"
      },
      "source": [
        "# 2. Instantiate and train model"
      ]
    },
    {
      "cell_type": "code",
      "metadata": {
        "id": "JWE-bvtH8aSK"
      },
      "source": [
        "def init_lstm(max_time, num_features, hidden_state_dim = 10, rnn_layers = 3, drop_rate = 0.5):\n",
        "  \"\"\"\n",
        "  Deep bidirectional LSTM for binary classification problem.\n",
        "  \n",
        "  params:\n",
        "    max_time (int): the maximum sequence length in the training data\n",
        "    num_features (int): the number of individual characters in the training set\n",
        "    lstm_hidden (int): the size of the hidden state in the LSTM cells\n",
        "    num_rnn_layers (int): the number of LSTM layers desired\n",
        "    drop_rate (float: 0 < x =< 1): the number of inputs to randomly ignore in the Dropout layers\n",
        "  \n",
        "  returns:\n",
        "    lstm_net: a Keras Model() object\n",
        "  \"\"\"\n",
        "  \n",
        "  # Define input to model\n",
        "  # NB: Althought an integer input might seem to make sense for one-hot encoding, tf requires a float input\n",
        "  seq_in = Input(shape = (max_time, num_features), dtype = 'float32', name = \"seq_in\")\n",
        "  \n",
        "  # Hidden forward layers\n",
        "  for i in range(rnn_layers):\n",
        "    if i == 0: # first layer\n",
        "      X_forw = CuDNNLSTM(units = hidden_state_dim, return_sequences = True, name = \"lstm_forward_\" + str(i))(seq_in)\n",
        "    elif i == (rnn_layers - 1): # final layer\n",
        "      X_forw = CuDNNLSTM(units = hidden_state_dim, return_sequences = False, name = \"lstm_forward_\" + str(i))(X_forw)\n",
        "    else: # all the others\n",
        "      X_forw = CuDNNLSTM(units = hidden_state_dim, return_sequences = True, name = \"lstm_forward_\" + str(i))(X_forw)\n",
        "    X_forw = Dropout(rate = drop_rate, name = \"dropout_forward_\" + str(i))(X_forw)\n",
        "  \n",
        "  # Hidden backward layers\n",
        "  for i in range(rnn_layers):\n",
        "    if i == 0: # first layer\n",
        "      X_back = CuDNNLSTM(units = hidden_state_dim, return_sequences = True, go_backwards = True, name = \"lstm_backward_\" + str(i))(seq_in)\n",
        "    elif i == (rnn_layers - 1): # final layer\n",
        "      X_back = CuDNNLSTM(units = hidden_state_dim, return_sequences = False, go_backwards = True, name = \"lstm_backward_\" + str(i))(X_back)\n",
        "    else: # all the others\n",
        "      X_back = CuDNNLSTM(units = hidden_state_dim, return_sequences = True, go_backwards = True, name = \"lstm_backward_\" + str(i))(X_back)\n",
        "    X_back = Dropout(rate = drop_rate, name = \"dropout_backward_\" + str(i))(X_back)\n",
        "\n",
        "  # Concatenate the hidden states\n",
        "  X = Concatenate()([X_forw, X_back])\n",
        "  \n",
        "  # Activation layer (apply once to each word)\n",
        "  Yhat = Dense(1, activation = \"sigmoid\")(X)\n",
        "  \n",
        "  # Create model\n",
        "  lstm_net = Model(inputs = [seq_in], outputs = Yhat)\n",
        "  \n",
        "  return lstm_net"
      ],
      "execution_count": null,
      "outputs": []
    },
    {
      "cell_type": "code",
      "metadata": {
        "id": "OZdm_SzVMEEJ",
        "colab": {
          "base_uri": "https://localhost:8080/",
          "height": 921
        },
        "outputId": "9eb7285d-666c-4e97-e587-d176545e171b"
      },
      "source": [
        "# Set hyperparameters\n",
        "hd = 100\n",
        "l = 4\n",
        "dr = 0.3\n",
        "\n",
        "# Initialise model\n",
        "model = init_lstm(max_time = t, num_features = n, hidden_state_dim = hd, rnn_layers = l, drop_rate = dr)\n",
        "\n",
        "# Sanity check\n",
        "model.summary()"
      ],
      "execution_count": null,
      "outputs": [
        {
          "output_type": "stream",
          "text": [
            "WARNING:tensorflow:From /usr/local/lib/python3.6/dist-packages/tensorflow/python/ops/resource_variable_ops.py:435: colocate_with (from tensorflow.python.framework.ops) is deprecated and will be removed in a future version.\n",
            "Instructions for updating:\n",
            "Colocations handled automatically by placer.\n",
            "WARNING:tensorflow:From /usr/local/lib/python3.6/dist-packages/tensorflow/python/keras/layers/core.py:143: calling dropout (from tensorflow.python.ops.nn_ops) with keep_prob is deprecated and will be removed in a future version.\n",
            "Instructions for updating:\n",
            "Please use `rate` instead of `keep_prob`. Rate should be set to `rate = 1 - keep_prob`.\n",
            "__________________________________________________________________________________________________\n",
            "Layer (type)                    Output Shape         Param #     Connected to                     \n",
            "==================================================================================================\n",
            "seq_in (InputLayer)             (None, 20, 29)       0                                            \n",
            "__________________________________________________________________________________________________\n",
            "lstm_forward_0 (CuDNNLSTM)      (None, 20, 100)      52400       seq_in[0][0]                     \n",
            "__________________________________________________________________________________________________\n",
            "lstm_backward_0 (CuDNNLSTM)     (None, 20, 100)      52400       seq_in[0][0]                     \n",
            "__________________________________________________________________________________________________\n",
            "dropout_forward_0 (Dropout)     (None, 20, 100)      0           lstm_forward_0[0][0]             \n",
            "__________________________________________________________________________________________________\n",
            "dropout_backward_0 (Dropout)    (None, 20, 100)      0           lstm_backward_0[0][0]            \n",
            "__________________________________________________________________________________________________\n",
            "lstm_forward_1 (CuDNNLSTM)      (None, 20, 100)      80800       dropout_forward_0[0][0]          \n",
            "__________________________________________________________________________________________________\n",
            "lstm_backward_1 (CuDNNLSTM)     (None, 20, 100)      80800       dropout_backward_0[0][0]         \n",
            "__________________________________________________________________________________________________\n",
            "dropout_forward_1 (Dropout)     (None, 20, 100)      0           lstm_forward_1[0][0]             \n",
            "__________________________________________________________________________________________________\n",
            "dropout_backward_1 (Dropout)    (None, 20, 100)      0           lstm_backward_1[0][0]            \n",
            "__________________________________________________________________________________________________\n",
            "lstm_forward_2 (CuDNNLSTM)      (None, 20, 100)      80800       dropout_forward_1[0][0]          \n",
            "__________________________________________________________________________________________________\n",
            "lstm_backward_2 (CuDNNLSTM)     (None, 20, 100)      80800       dropout_backward_1[0][0]         \n",
            "__________________________________________________________________________________________________\n",
            "dropout_forward_2 (Dropout)     (None, 20, 100)      0           lstm_forward_2[0][0]             \n",
            "__________________________________________________________________________________________________\n",
            "dropout_backward_2 (Dropout)    (None, 20, 100)      0           lstm_backward_2[0][0]            \n",
            "__________________________________________________________________________________________________\n",
            "lstm_forward_3 (CuDNNLSTM)      (None, 100)          80800       dropout_forward_2[0][0]          \n",
            "__________________________________________________________________________________________________\n",
            "lstm_backward_3 (CuDNNLSTM)     (None, 100)          80800       dropout_backward_2[0][0]         \n",
            "__________________________________________________________________________________________________\n",
            "dropout_forward_3 (Dropout)     (None, 100)          0           lstm_forward_3[0][0]             \n",
            "__________________________________________________________________________________________________\n",
            "dropout_backward_3 (Dropout)    (None, 100)          0           lstm_backward_3[0][0]            \n",
            "__________________________________________________________________________________________________\n",
            "concatenate (Concatenate)       (None, 200)          0           dropout_forward_3[0][0]          \n",
            "                                                                 dropout_backward_3[0][0]         \n",
            "__________________________________________________________________________________________________\n",
            "dense (Dense)                   (None, 1)            201         concatenate[0][0]                \n",
            "==================================================================================================\n",
            "Total params: 589,801\n",
            "Trainable params: 589,801\n",
            "Non-trainable params: 0\n",
            "__________________________________________________________________________________________________\n"
          ],
          "name": "stdout"
        }
      ]
    },
    {
      "cell_type": "code",
      "metadata": {
        "id": "QssTLmt-Ej4k"
      },
      "source": [
        "# Create optimizer and compile\n",
        "opt = tf.keras.optimizers.Adam(clipnorm = 5)\n",
        "model.compile(optimizer = opt, loss = 'binary_crossentropy', metrics = [prec,rec])"
      ],
      "execution_count": null,
      "outputs": []
    },
    {
      "cell_type": "code",
      "metadata": {
        "id": "qxpt8BUVHxps",
        "colab": {
          "base_uri": "https://localhost:8080/",
          "height": 986
        },
        "outputId": "beba0138-ddd5-46d1-f77b-413a4155101f"
      },
      "source": [
        "# Train new model using class weights and save\n",
        "hist = model.fit(x = X_train, y = y_train,\n",
        "          batch_size = 512, epochs = 28,\n",
        "          validation_data = [X_test, y_test],\n",
        "          verbose = 2)\n",
        "\n",
        "\n",
        "model.save('/content/gdrive/My Drive/waves_of_words/20190307_binary_model_30_epochs.h5')"
      ],
      "execution_count": null,
      "outputs": [
        {
          "output_type": "stream",
          "text": [
            "Train on 335219 samples, validate on 37247 samples\n",
            "Epoch 1/28\n",
            " - 66s - loss: 0.1538 - prec: 0.9337 - rec: 0.9459 - val_loss: 0.1496 - val_prec: 0.9296 - val_rec: 0.9544\n",
            "Epoch 2/28\n",
            " - 65s - loss: 0.1461 - prec: 0.9373 - rec: 0.9490 - val_loss: 0.1454 - val_prec: 0.9426 - val_rec: 0.9425\n",
            "Epoch 3/28\n",
            " - 66s - loss: 0.1404 - prec: 0.9405 - rec: 0.9513 - val_loss: 0.1395 - val_prec: 0.9464 - val_rec: 0.9413\n",
            "Epoch 4/28\n",
            " - 66s - loss: 0.1360 - prec: 0.9423 - rec: 0.9531 - val_loss: 0.1382 - val_prec: 0.9334 - val_rec: 0.9597\n",
            "Epoch 5/28\n",
            " - 66s - loss: 0.1327 - prec: 0.9434 - rec: 0.9542 - val_loss: 0.1337 - val_prec: 0.9348 - val_rec: 0.9616\n",
            "Epoch 6/28\n",
            " - 66s - loss: 0.1296 - prec: 0.9452 - rec: 0.9557 - val_loss: 0.1324 - val_prec: 0.9411 - val_rec: 0.9560\n",
            "Epoch 7/28\n",
            " - 65s - loss: 0.1265 - prec: 0.9464 - rec: 0.9568 - val_loss: 0.1327 - val_prec: 0.9519 - val_rec: 0.9453\n",
            "Epoch 8/28\n",
            " - 65s - loss: 0.1238 - prec: 0.9480 - rec: 0.9576 - val_loss: 0.1283 - val_prec: 0.9412 - val_rec: 0.9608\n",
            "Epoch 9/28\n",
            " - 66s - loss: 0.1212 - prec: 0.9490 - rec: 0.9586 - val_loss: 0.1277 - val_prec: 0.9526 - val_rec: 0.9486\n",
            "Epoch 10/28\n",
            " - 66s - loss: 0.1187 - prec: 0.9502 - rec: 0.9594 - val_loss: 0.1287 - val_prec: 0.9551 - val_rec: 0.9426\n",
            "Epoch 11/28\n",
            " - 66s - loss: 0.1168 - prec: 0.9510 - rec: 0.9600 - val_loss: 0.1250 - val_prec: 0.9476 - val_rec: 0.9573\n",
            "Epoch 12/28\n",
            " - 66s - loss: 0.1148 - prec: 0.9519 - rec: 0.9611 - val_loss: 0.1251 - val_prec: 0.9459 - val_rec: 0.9570\n",
            "Epoch 13/28\n",
            " - 66s - loss: 0.1127 - prec: 0.9526 - rec: 0.9616 - val_loss: 0.1217 - val_prec: 0.9520 - val_rec: 0.9533\n",
            "Epoch 14/28\n",
            " - 66s - loss: 0.1110 - prec: 0.9533 - rec: 0.9621 - val_loss: 0.1214 - val_prec: 0.9548 - val_rec: 0.9494\n",
            "Epoch 15/28\n",
            " - 66s - loss: 0.1088 - prec: 0.9541 - rec: 0.9633 - val_loss: 0.1252 - val_prec: 0.9373 - val_rec: 0.9679\n",
            "Epoch 16/28\n",
            " - 66s - loss: 0.1068 - prec: 0.9553 - rec: 0.9638 - val_loss: 0.1210 - val_prec: 0.9463 - val_rec: 0.9614\n",
            "Epoch 17/28\n",
            " - 66s - loss: 0.1047 - prec: 0.9560 - rec: 0.9647 - val_loss: 0.1208 - val_prec: 0.9436 - val_rec: 0.9662\n",
            "Epoch 18/28\n",
            " - 66s - loss: 0.1029 - prec: 0.9571 - rec: 0.9657 - val_loss: 0.1193 - val_prec: 0.9515 - val_rec: 0.9575\n",
            "Epoch 19/28\n",
            " - 66s - loss: 0.1008 - prec: 0.9575 - rec: 0.9661 - val_loss: 0.1182 - val_prec: 0.9509 - val_rec: 0.9586\n",
            "Epoch 20/28\n",
            " - 66s - loss: 0.0992 - prec: 0.9582 - rec: 0.9672 - val_loss: 0.1190 - val_prec: 0.9530 - val_rec: 0.9541\n",
            "Epoch 21/28\n",
            " - 66s - loss: 0.0972 - prec: 0.9590 - rec: 0.9678 - val_loss: 0.1222 - val_prec: 0.9497 - val_rec: 0.9600\n",
            "Epoch 22/28\n",
            " - 66s - loss: 0.0953 - prec: 0.9603 - rec: 0.9684 - val_loss: 0.1199 - val_prec: 0.9499 - val_rec: 0.9610\n",
            "Epoch 23/28\n",
            " - 66s - loss: 0.0942 - prec: 0.9599 - rec: 0.9689 - val_loss: 0.1203 - val_prec: 0.9517 - val_rec: 0.9590\n",
            "Epoch 24/28\n",
            " - 66s - loss: 0.0921 - prec: 0.9613 - rec: 0.9695 - val_loss: 0.1198 - val_prec: 0.9548 - val_rec: 0.9564\n",
            "Epoch 25/28\n",
            " - 66s - loss: 0.0904 - prec: 0.9621 - rec: 0.9704 - val_loss: 0.1185 - val_prec: 0.9504 - val_rec: 0.9620\n",
            "Epoch 26/28\n",
            " - 66s - loss: 0.0889 - prec: 0.9627 - rec: 0.9710 - val_loss: 0.1200 - val_prec: 0.9526 - val_rec: 0.9597\n",
            "Epoch 27/28\n",
            " - 66s - loss: 0.0870 - prec: 0.9635 - rec: 0.9713 - val_loss: 0.1235 - val_prec: 0.9518 - val_rec: 0.9592\n",
            "Epoch 28/28\n",
            " - 66s - loss: 0.0857 - prec: 0.9639 - rec: 0.9722 - val_loss: 0.1217 - val_prec: 0.9547 - val_rec: 0.9564\n"
          ],
          "name": "stdout"
        }
      ]
    },
    {
      "cell_type": "markdown",
      "metadata": {
        "id": "AmQo49k39aRs"
      },
      "source": [
        "# 3. Evaluate the model\n",
        "\n",
        "Have a look at how it's going on the training and test data."
      ]
    },
    {
      "cell_type": "code",
      "metadata": {
        "id": "nplBqtLbfby-"
      },
      "source": [
        "from matplotlib import pyplot as plt\n",
        "plt.style.use('dark_background')\n",
        "%matplotlib inline"
      ],
      "execution_count": null,
      "outputs": []
    },
    {
      "cell_type": "code",
      "metadata": {
        "id": "N2czEkXGfgyA",
        "colab": {
          "base_uri": "https://localhost:8080/",
          "height": 356
        },
        "outputId": "d0f9c6c9-211c-40a8-e910-c5935e4351e6"
      },
      "source": [
        "epochs = [x + 3 for x,y in enumerate(hist.history['loss'])] # generate sequences of x-values\n",
        "f, (lplt, pplt, rplt) = plt.subplots(1, 3, figsize = (18,5), sharex = True)\n",
        "\n",
        "lplt.plot(epochs, hist.history['loss'], color = 'g')\n",
        "lplt.plot(epochs, hist.history['val_loss'], color = 'b')\n",
        "lplt.set_ylim([0., 0.2])\n",
        "\n",
        "pplt.plot(epochs, hist.history['prec'], color = 'g')\n",
        "pplt.plot(epochs, hist.history['val_prec'], color = 'b')\n",
        "pplt.set_ylim([0.8, 1.])\n",
        "\n",
        "rplt.plot(epochs, hist.history['rec'], color = 'g')\n",
        "rplt.plot(epochs, hist.history['val_rec'], color = 'b')\n",
        "rplt.set_ylim([0.8, 1.])\n",
        "\n",
        "f.suptitle('Loss, Precision and Recall on the Training and Test sets (30 epochs)')\n",
        "\n",
        "plt.show()"
      ],
      "execution_count": null,
      "outputs": [
        {
          "output_type": "display_data",
          "data": {
            "image/png": "[encoded data removed]",
            "text/plain": [
              "<Figure size 1296x360 with 3 Axes>"
            ]
          },
          "metadata": {
            "tags": []
          }
        }
      ]
    },
    {
      "cell_type": "markdown",
      "metadata": {
        "id": "Ldqmn5B8KKoK"
      },
      "source": [
        "# 4. Try on some Trove data\n",
        "\n",
        "Now we've trained the model, how terribly does it do on actual Trove data?"
      ]
    },
    {
      "cell_type": "code",
      "metadata": {
        "id": "rAGVusCLKUTQ"
      },
      "source": [
        "# Load sample articles\n",
        "with open('/content/gdrive/My Drive/waves_of_words/one_thousand_articles.p', 'rb') as file:\n",
        "  one_thousand_articles = p.load(file)\n",
        "\n",
        "# Load tokeniser (no need to load the data)\n",
        "with open('/content/gdrive/My Drive/waves_of_words/20190306_binary_model_data_and_tkzr.p', 'rb') as f:\n",
        "  _, tkzr = p.load(f)\n",
        "\n",
        "# Load the model\n",
        "model = load_model('/content/gdrive/My Drive/waves_of_words/20190307_binary_model_30_epochs.h5', custom_objects = {'prec':prec, 'rec':rec})"
      ],
      "execution_count": null,
      "outputs": []
    },
    {
      "cell_type": "code",
      "metadata": {
        "id": "CN5K9o33KeMA",
        "colab": {
          "base_uri": "https://localhost:8080/",
          "height": 85
        },
        "outputId": "0cdd9498-0115-494a-8fc0-00a1d7feff17"
      },
      "source": [
        "# Preprocess text:\n",
        "samp_df = pd.DataFrame(data = one_thousand_articles, columns = ['id', 'art_id', 'tokens'])\n",
        "\n",
        "# Unnest the list column\n",
        "unnested = samp_df.set_index(['id', 'art_id'])['tokens'].apply(pd.Series).stack().reset_index()\n",
        "unnested.columns = ['id', 'art_id', 'tkn_idx', 'token']\n",
        "\n",
        "# Drop duplicates\n",
        "unnested.drop_duplicates(subset = 'token', inplace = True)\n",
        "\n",
        "# Preprocess tokens\n",
        "unnested.loc[:,'token'] = (unnested['token']\n",
        "                  .str.replace(r'&.{1,7};', '') # Strip out html entities\n",
        "                  .str.replace(r'\\\\N', '') # Strip out missing values written as '\\N'\n",
        "                  .str.replace(r'\\(.+\\)', '') # Strip out parenthetical comments\n",
        "                  .str.normalize('NFKD') # Strip out accents\n",
        "                  .str.encode('ascii', errors='ignore')\n",
        "                  .str.decode('utf-8') \n",
        "                  .str.replace(r'\\d|\\W|_', '') # Strip out all non-word characters and underscores\n",
        "                  .str.lower() # To lower case\n",
        "                 )\n",
        "\n",
        "# Add start and end symbols\n",
        "unnested['token'] = unnested['token'].apply(lambda x: 'S' + x + 'E')\n",
        "\n",
        "# Apply tokensier\n",
        "seq_list = tkzr.texts_to_sequences(unnested['token'])\n",
        "maxlen = 20\n",
        "X = pad_sequences(seq_list, padding = 'pre', truncating = 'pre', maxlen = maxlen)\n",
        "\n",
        "# One-hot encode\n",
        "X = tf.keras.utils.to_categorical(X, dtype = 'float32')\n",
        "\n",
        "# Remove padding slice\n",
        "X = X[:,:,1:]\n",
        "\n",
        "# Sanity check\n",
        "print(f'There are {len(unnested)} tokens in the `unnested` data frame.')\n",
        "print(f'Sequences are capped at {maxlen} characters.')\n",
        "print(f'There are {len(tkzr.word_index)} characters in the tokenizer\\'s vocabulary')\n",
        "print(f'`X` has dimensions {X.shape[0]}, {X.shape[1]} and {X.shape[2]}.')"
      ],
      "execution_count": null,
      "outputs": [
        {
          "output_type": "stream",
          "text": [
            "There are 106409 tokens in the `unnested` data frame.\n",
            "Sequences are capped at 20 characters.\n",
            "There are 29 characters in the tokenizer's vocabulary\n",
            "`X` has dimensions 106409, 20 and 29.\n"
          ],
          "name": "stdout"
        }
      ]
    },
    {
      "cell_type": "code",
      "metadata": {
        "id": "V_1kXE_iXuID"
      },
      "source": [
        "# Predict which of the tokens are aboriginal words.\n",
        "unnested['y_hat'] = model.predict(X) # Get probabilities\n",
        "unnested['class'] = unnested.y_hat >= 0.5 # Classify"
      ],
      "execution_count": null,
      "outputs": []
    },
    {
      "cell_type": "code",
      "metadata": {
        "id": "yuz1kEuMbFzk"
      },
      "source": [
        "# Which articles have the greatest number of 'aboriginal' words?\n",
        "aboriginal_words_per_article = (unnested[['art_id','class']]\n",
        "                                .groupby('art_id') # consider each article\n",
        "                                .sum() # Sum the number of aboriginal words (english = 0)\n",
        "                                .reset_index()\n",
        "                                .sort_values('class', ascending = False)\n",
        "                               )\n",
        "aboriginal_words_per_article['url'] = (aboriginal_words_per_article['art_id']\n",
        "                                       .apply(lambda x: \"https://trove.nla.gov.au/newspaper/article/\" + str(x)))"
      ],
      "execution_count": null,
      "outputs": []
    },
    {
      "cell_type": "code",
      "metadata": {
        "id": "yqRXZ_f1cM7S"
      },
      "source": [
        "# Have a look at some of them\n",
        "from functools import partial\n",
        "\n",
        "def inspect_general(idx, df_one, df_two):\n",
        "  # Print the url\n",
        "  print(df_one['url'].iloc[idx])\n",
        "  \n",
        "  # Get data for particular article\n",
        "  article = df_one['art_id'].iloc[idx]\n",
        "  article_data = df_two[df_two['art_id'] == article]\n",
        "  \n",
        "  # List the predicted aboriginal words\n",
        "  ab_wrds = article_data[article_data['class'] == True]\n",
        "  print(f'Of {len(article_data)} examined words, {len(ab_wrds)} were found to be aboriginal.')\n",
        "  print(f'Supposed aboriginal words:')\n",
        "  display(ab_wrds.sort_values('y_hat', ascending = False))\n",
        "  \n",
        "  return None\n",
        "  \n",
        "inspect_article = partial(inspect_general, df_one = aboriginal_words_per_article, df_two = unnested)"
      ],
      "execution_count": null,
      "outputs": []
    },
    {
      "cell_type": "code",
      "metadata": {
        "id": "jeRU2IXjfUsL"
      },
      "source": [
        "# Another way of filtering the results: which articles have the highest proportion of words with\n",
        "# scores over a certain threshold?\n",
        "def compute_prop(df, threshold = 0.8):\n",
        "  \n",
        "  num_over = len(df[df['y_hat'] > threshold])\n",
        "  num_rows = len(df)\n",
        "  \n",
        "  prop = num_over / num_rows\n",
        "  \n",
        "  out = pd.DataFrame.from_dict({'prop' : [prop], 'words_examined' : [num_rows]})\n",
        "  \n",
        "  return out\n",
        "\n",
        "highest_prop = (unnested[['art_id','y_hat']]\n",
        "                .groupby('art_id') # consider each article\n",
        "                .apply(compute_prop) # Get the proportion\n",
        "                .sort_values('prop', ascending = False)\n",
        "                .reset_index()\n",
        "               )\n",
        "highest_prop['url'] = highest_prop['art_id'].apply(lambda x: \"https://trove.nla.gov.au/newspaper/article/\" + str(x))"
      ],
      "execution_count": null,
      "outputs": []
    },
    {
      "cell_type": "code",
      "metadata": {
        "id": "tnhW058DoiiT"
      },
      "source": [
        "def inspect_two(idx, df_one, df_two):\n",
        "  \n",
        "  # Print the url\n",
        "  print(df_one['url'].iloc[idx])\n",
        "  \n",
        "  # Get data for particular article\n",
        "  article = df_one['art_id'].iloc[idx]\n",
        "  article_data = df_two[df_two['art_id'] == article]\n",
        "  \n",
        "  # List the predicted aboriginal words\n",
        "  ab_wrds = article_data[article_data['y_hat'] > 0.8]\n",
        "  print(f'Of {len(article_data)} examined words, {len(ab_wrds)} had a greater probability than 0.8.')\n",
        "  print(f'Supposed aboriginal words:')\n",
        "  display(ab_wrds.sort_values('y_hat', ascending = False))\n",
        "  \n",
        "  return None"
      ],
      "execution_count": null,
      "outputs": []
    },
    {
      "cell_type": "code",
      "metadata": {
        "id": "V8Wg2zvFrDwC"
      },
      "source": [
        "highest_prop_fil = highest_prop[highest_prop['words_examined'] > 100]\n",
        "insp_prop_dat = partial(inspect_two, df_one = highest_prop_fil, df_two = unnested)"
      ],
      "execution_count": null,
      "outputs": []
    },
    {
      "cell_type": "code",
      "metadata": {
        "id": "IRNzY61bv_b3",
        "colab": {
          "base_uri": "https://localhost:8080/",
          "height": 1340
        },
        "outputId": "0fd1dd63-d9e3-4bfe-df70-655c5c8a8696"
      },
      "source": [
        "insp_prop_dat(6)"
      ],
      "execution_count": null,
      "outputs": [
        {
          "output_type": "stream",
          "text": [
            "https://trove.nla.gov.au/newspaper/article/18587021\n",
            "Of 267 examined words, 40 had a greater probability than 0.8.\n",
            "Supposed aboriginal words:\n"
          ],
          "name": "stdout"
        },
        {
          "output_type": "display_data",
          "data": {
            "text/html": [
              "<div>\n",
              "<style scoped>\n",
              "    .dataframe tbody tr th:only-of-type {\n",
              "        vertical-align: middle;\n",
              "    }\n",
              "\n",
              "    .dataframe tbody tr th {\n",
              "        vertical-align: top;\n",
              "    }\n",
              "\n",
              "    .dataframe thead th {\n",
              "        text-align: right;\n",
              "    }\n",
              "</style>\n",
              "<table border=\"1\" class=\"dataframe\">\n",
              "  <thead>\n",
              "    <tr style=\"text-align: right;\">\n",
              "      <th></th>\n",
              "      <th>id</th>\n",
              "      <th>art_id</th>\n",
              "      <th>tkn_idx</th>\n",
              "      <th>token</th>\n",
              "      <th>y_hat</th>\n",
              "      <th>class</th>\n",
              "    </tr>\n",
              "  </thead>\n",
              "  <tbody>\n",
              "    <tr>\n",
              "      <th>49812</th>\n",
              "      <td>347860</td>\n",
              "      <td>18587021</td>\n",
              "      <td>261</td>\n",
              "      <td>SooaatrucE</td>\n",
              "      <td>0.999987</td>\n",
              "      <td>True</td>\n",
              "    </tr>\n",
              "    <tr>\n",
              "      <th>49666</th>\n",
              "      <td>347860</td>\n",
              "      <td>18587021</td>\n",
              "      <td>115</td>\n",
              "      <td>SpupuliE</td>\n",
              "      <td>0.999940</td>\n",
              "      <td>True</td>\n",
              "    </tr>\n",
              "    <tr>\n",
              "      <th>49704</th>\n",
              "      <td>347860</td>\n",
              "      <td>18587021</td>\n",
              "      <td>153</td>\n",
              "      <td>SltiljijE</td>\n",
              "      <td>0.998638</td>\n",
              "      <td>True</td>\n",
              "    </tr>\n",
              "    <tr>\n",
              "      <th>49675</th>\n",
              "      <td>347860</td>\n",
              "      <td>18587021</td>\n",
              "      <td>124</td>\n",
              "      <td>StharuE</td>\n",
              "      <td>0.998021</td>\n",
              "      <td>True</td>\n",
              "    </tr>\n",
              "    <tr>\n",
              "      <th>49711</th>\n",
              "      <td>347860</td>\n",
              "      <td>18587021</td>\n",
              "      <td>160</td>\n",
              "      <td>SkiiiwayE</td>\n",
              "      <td>0.996767</td>\n",
              "      <td>True</td>\n",
              "    </tr>\n",
              "    <tr>\n",
              "      <th>49741</th>\n",
              "      <td>347860</td>\n",
              "      <td>18587021</td>\n",
              "      <td>190</td>\n",
              "      <td>SpoaaliE</td>\n",
              "      <td>0.992320</td>\n",
              "      <td>True</td>\n",
              "    </tr>\n",
              "    <tr>\n",
              "      <th>49756</th>\n",
              "      <td>347860</td>\n",
              "      <td>18587021</td>\n",
              "      <td>205</td>\n",
              "      <td>SuuvernmrctE</td>\n",
              "      <td>0.990817</td>\n",
              "      <td>True</td>\n",
              "    </tr>\n",
              "    <tr>\n",
              "      <th>49594</th>\n",
              "      <td>347860</td>\n",
              "      <td>18587021</td>\n",
              "      <td>43</td>\n",
              "      <td>SuiembenE</td>\n",
              "      <td>0.986694</td>\n",
              "      <td>True</td>\n",
              "    </tr>\n",
              "    <tr>\n",
              "      <th>49692</th>\n",
              "      <td>347860</td>\n",
              "      <td>18587021</td>\n",
              "      <td>141</td>\n",
              "      <td>SnuiketaE</td>\n",
              "      <td>0.983120</td>\n",
              "      <td>True</td>\n",
              "    </tr>\n",
              "    <tr>\n",
              "      <th>49730</th>\n",
              "      <td>347860</td>\n",
              "      <td>18587021</td>\n",
              "      <td>179</td>\n",
              "      <td>SlaruE</td>\n",
              "      <td>0.979458</td>\n",
              "      <td>True</td>\n",
              "    </tr>\n",
              "    <tr>\n",
              "      <th>49580</th>\n",
              "      <td>347860</td>\n",
              "      <td>18587021</td>\n",
              "      <td>29</td>\n",
              "      <td>SdilliE</td>\n",
              "      <td>0.978946</td>\n",
              "      <td>True</td>\n",
              "    </tr>\n",
              "    <tr>\n",
              "      <th>49706</th>\n",
              "      <td>347860</td>\n",
              "      <td>18587021</td>\n",
              "      <td>155</td>\n",
              "      <td>SrducaE</td>\n",
              "      <td>0.967815</td>\n",
              "      <td>True</td>\n",
              "    </tr>\n",
              "    <tr>\n",
              "      <th>49702</th>\n",
              "      <td>347860</td>\n",
              "      <td>18587021</td>\n",
              "      <td>151</td>\n",
              "      <td>StuctnaE</td>\n",
              "      <td>0.963406</td>\n",
              "      <td>True</td>\n",
              "    </tr>\n",
              "    <tr>\n",
              "      <th>49681</th>\n",
              "      <td>347860</td>\n",
              "      <td>18587021</td>\n",
              "      <td>130</td>\n",
              "      <td>SikuE</td>\n",
              "      <td>0.961618</td>\n",
              "      <td>True</td>\n",
              "    </tr>\n",
              "    <tr>\n",
              "      <th>49703</th>\n",
              "      <td>347860</td>\n",
              "      <td>18587021</td>\n",
              "      <td>152</td>\n",
              "      <td>SwouiilE</td>\n",
              "      <td>0.959180</td>\n",
              "      <td>True</td>\n",
              "    </tr>\n",
              "    <tr>\n",
              "      <th>49762</th>\n",
              "      <td>347860</td>\n",
              "      <td>18587021</td>\n",
              "      <td>211</td>\n",
              "      <td>SthijE</td>\n",
              "      <td>0.958744</td>\n",
              "      <td>True</td>\n",
              "    </tr>\n",
              "    <tr>\n",
              "      <th>49697</th>\n",
              "      <td>347860</td>\n",
              "      <td>18587021</td>\n",
              "      <td>146</td>\n",
              "      <td>SjamaE</td>\n",
              "      <td>0.951399</td>\n",
              "      <td>True</td>\n",
              "    </tr>\n",
              "    <tr>\n",
              "      <th>49813</th>\n",
              "      <td>347860</td>\n",
              "      <td>18587021</td>\n",
              "      <td>262</td>\n",
              "      <td>SnarroE</td>\n",
              "      <td>0.950884</td>\n",
              "      <td>True</td>\n",
              "    </tr>\n",
              "    <tr>\n",
              "      <th>49836</th>\n",
              "      <td>347860</td>\n",
              "      <td>18587021</td>\n",
              "      <td>285</td>\n",
              "      <td>SmtjaaE</td>\n",
              "      <td>0.950512</td>\n",
              "      <td>True</td>\n",
              "    </tr>\n",
              "    <tr>\n",
              "      <th>49727</th>\n",
              "      <td>347860</td>\n",
              "      <td>18587021</td>\n",
              "      <td>176</td>\n",
              "      <td>SimrtljE</td>\n",
              "      <td>0.941439</td>\n",
              "      <td>True</td>\n",
              "    </tr>\n",
              "    <tr>\n",
              "      <th>49656</th>\n",
              "      <td>347860</td>\n",
              "      <td>18587021</td>\n",
              "      <td>105</td>\n",
              "      <td>SnujajeatudE</td>\n",
              "      <td>0.938604</td>\n",
              "      <td>True</td>\n",
              "    </tr>\n",
              "    <tr>\n",
              "      <th>49677</th>\n",
              "      <td>347860</td>\n",
              "      <td>18587021</td>\n",
              "      <td>126</td>\n",
              "      <td>SturaE</td>\n",
              "      <td>0.937292</td>\n",
              "      <td>True</td>\n",
              "    </tr>\n",
              "    <tr>\n",
              "      <th>49673</th>\n",
              "      <td>347860</td>\n",
              "      <td>18587021</td>\n",
              "      <td>122</td>\n",
              "      <td>SmatirjlE</td>\n",
              "      <td>0.927669</td>\n",
              "      <td>True</td>\n",
              "    </tr>\n",
              "    <tr>\n",
              "      <th>49737</th>\n",
              "      <td>347860</td>\n",
              "      <td>18587021</td>\n",
              "      <td>186</td>\n",
              "      <td>SthciijE</td>\n",
              "      <td>0.920223</td>\n",
              "      <td>True</td>\n",
              "    </tr>\n",
              "    <tr>\n",
              "      <th>49584</th>\n",
              "      <td>347860</td>\n",
              "      <td>18587021</td>\n",
              "      <td>33</td>\n",
              "      <td>SpurtimE</td>\n",
              "      <td>0.918775</td>\n",
              "      <td>True</td>\n",
              "    </tr>\n",
              "    <tr>\n",
              "      <th>49829</th>\n",
              "      <td>347860</td>\n",
              "      <td>18587021</td>\n",
              "      <td>278</td>\n",
              "      <td>SoououjE</td>\n",
              "      <td>0.916919</td>\n",
              "      <td>True</td>\n",
              "    </tr>\n",
              "    <tr>\n",
              "      <th>49861</th>\n",
              "      <td>347860</td>\n",
              "      <td>18587021</td>\n",
              "      <td>310</td>\n",
              "      <td>StloorE</td>\n",
              "      <td>0.911140</td>\n",
              "      <td>True</td>\n",
              "    </tr>\n",
              "    <tr>\n",
              "      <th>49771</th>\n",
              "      <td>347860</td>\n",
              "      <td>18587021</td>\n",
              "      <td>220</td>\n",
              "      <td>SwimraeriE</td>\n",
              "      <td>0.899989</td>\n",
              "      <td>True</td>\n",
              "    </tr>\n",
              "    <tr>\n",
              "      <th>49646</th>\n",
              "      <td>347860</td>\n",
              "      <td>18587021</td>\n",
              "      <td>95</td>\n",
              "      <td>SiweiE</td>\n",
              "      <td>0.896830</td>\n",
              "      <td>True</td>\n",
              "    </tr>\n",
              "    <tr>\n",
              "      <th>49845</th>\n",
              "      <td>347860</td>\n",
              "      <td>18587021</td>\n",
              "      <td>294</td>\n",
              "      <td>SdillerntE</td>\n",
              "      <td>0.886994</td>\n",
              "      <td>True</td>\n",
              "    </tr>\n",
              "    <tr>\n",
              "      <th>49641</th>\n",
              "      <td>347860</td>\n",
              "      <td>18587021</td>\n",
              "      <td>90</td>\n",
              "      <td>SimportmiE</td>\n",
              "      <td>0.861392</td>\n",
              "      <td>True</td>\n",
              "    </tr>\n",
              "    <tr>\n",
              "      <th>49894</th>\n",
              "      <td>347860</td>\n",
              "      <td>18587021</td>\n",
              "      <td>343</td>\n",
              "      <td>SmororE</td>\n",
              "      <td>0.856726</td>\n",
              "      <td>True</td>\n",
              "    </tr>\n",
              "    <tr>\n",
              "      <th>49856</th>\n",
              "      <td>347860</td>\n",
              "      <td>18587021</td>\n",
              "      <td>305</td>\n",
              "      <td>SnuuldE</td>\n",
              "      <td>0.846926</td>\n",
              "      <td>True</td>\n",
              "    </tr>\n",
              "    <tr>\n",
              "      <th>49720</th>\n",
              "      <td>347860</td>\n",
              "      <td>18587021</td>\n",
              "      <td>169</td>\n",
              "      <td>SjldejE</td>\n",
              "      <td>0.846822</td>\n",
              "      <td>True</td>\n",
              "    </tr>\n",
              "    <tr>\n",
              "      <th>49819</th>\n",
              "      <td>347860</td>\n",
              "      <td>18587021</td>\n",
              "      <td>268</td>\n",
              "      <td>SgnageaE</td>\n",
              "      <td>0.846557</td>\n",
              "      <td>True</td>\n",
              "    </tr>\n",
              "    <tr>\n",
              "      <th>49811</th>\n",
              "      <td>347860</td>\n",
              "      <td>18587021</td>\n",
              "      <td>260</td>\n",
              "      <td>SlikeljE</td>\n",
              "      <td>0.838292</td>\n",
              "      <td>True</td>\n",
              "    </tr>\n",
              "    <tr>\n",
              "      <th>49701</th>\n",
              "      <td>347860</td>\n",
              "      <td>18587021</td>\n",
              "      <td>150</td>\n",
              "      <td>StaralE</td>\n",
              "      <td>0.827028</td>\n",
              "      <td>True</td>\n",
              "    </tr>\n",
              "    <tr>\n",
              "      <th>49805</th>\n",
              "      <td>347860</td>\n",
              "      <td>18587021</td>\n",
              "      <td>254</td>\n",
              "      <td>SyalloakE</td>\n",
              "      <td>0.809341</td>\n",
              "      <td>True</td>\n",
              "    </tr>\n",
              "    <tr>\n",
              "      <th>49759</th>\n",
              "      <td>347860</td>\n",
              "      <td>18587021</td>\n",
              "      <td>208</td>\n",
              "      <td>SprtnuntE</td>\n",
              "      <td>0.804980</td>\n",
              "      <td>True</td>\n",
              "    </tr>\n",
              "    <tr>\n",
              "      <th>49626</th>\n",
              "      <td>347860</td>\n",
              "      <td>18587021</td>\n",
              "      <td>75</td>\n",
              "      <td>SraijE</td>\n",
              "      <td>0.802655</td>\n",
              "      <td>True</td>\n",
              "    </tr>\n",
              "  </tbody>\n",
              "</table>\n",
              "</div>"
            ],
            "text/plain": [
              "           id    art_id  tkn_idx         token     y_hat  class\n",
              "49812  347860  18587021      261    SooaatrucE  0.999987   True\n",
              "49666  347860  18587021      115      SpupuliE  0.999940   True\n",
              "49704  347860  18587021      153     SltiljijE  0.998638   True\n",
              "49675  347860  18587021      124       StharuE  0.998021   True\n",
              "49711  347860  18587021      160     SkiiiwayE  0.996767   True\n",
              "49741  347860  18587021      190      SpoaaliE  0.992320   True\n",
              "49756  347860  18587021      205  SuuvernmrctE  0.990817   True\n",
              "49594  347860  18587021       43     SuiembenE  0.986694   True\n",
              "49692  347860  18587021      141     SnuiketaE  0.983120   True\n",
              "49730  347860  18587021      179        SlaruE  0.979458   True\n",
              "49580  347860  18587021       29       SdilliE  0.978946   True\n",
              "49706  347860  18587021      155       SrducaE  0.967815   True\n",
              "49702  347860  18587021      151      StuctnaE  0.963406   True\n",
              "49681  347860  18587021      130         SikuE  0.961618   True\n",
              "49703  347860  18587021      152      SwouiilE  0.959180   True\n",
              "49762  347860  18587021      211        SthijE  0.958744   True\n",
              "49697  347860  18587021      146        SjamaE  0.951399   True\n",
              "49813  347860  18587021      262       SnarroE  0.950884   True\n",
              "49836  347860  18587021      285       SmtjaaE  0.950512   True\n",
              "49727  347860  18587021      176      SimrtljE  0.941439   True\n",
              "49656  347860  18587021      105  SnujajeatudE  0.938604   True\n",
              "49677  347860  18587021      126        SturaE  0.937292   True\n",
              "49673  347860  18587021      122     SmatirjlE  0.927669   True\n",
              "49737  347860  18587021      186      SthciijE  0.920223   True\n",
              "49584  347860  18587021       33      SpurtimE  0.918775   True\n",
              "49829  347860  18587021      278      SoououjE  0.916919   True\n",
              "49861  347860  18587021      310       StloorE  0.911140   True\n",
              "49771  347860  18587021      220    SwimraeriE  0.899989   True\n",
              "49646  347860  18587021       95        SiweiE  0.896830   True\n",
              "49845  347860  18587021      294    SdillerntE  0.886994   True\n",
              "49641  347860  18587021       90    SimportmiE  0.861392   True\n",
              "49894  347860  18587021      343       SmororE  0.856726   True\n",
              "49856  347860  18587021      305       SnuuldE  0.846926   True\n",
              "49720  347860  18587021      169       SjldejE  0.846822   True\n",
              "49819  347860  18587021      268      SgnageaE  0.846557   True\n",
              "49811  347860  18587021      260      SlikeljE  0.838292   True\n",
              "49701  347860  18587021      150       StaralE  0.827028   True\n",
              "49805  347860  18587021      254     SyalloakE  0.809341   True\n",
              "49759  347860  18587021      208     SprtnuntE  0.804980   True\n",
              "49626  347860  18587021       75        SraijE  0.802655   True"
            ]
          },
          "metadata": {
            "tags": []
          }
        }
      ]
    },
    {
      "cell_type": "markdown",
      "metadata": {
        "id": "v4jvbJY4meIO"
      },
      "source": [
        "After a first look at the results, a few thoughts:\n",
        "\n",
        "- The model definitely struggles with messy OCR. Exposing it to messy OCR would be one solution. Cleaning up the training data somehow would be another.\n",
        "- If you look simply for articles that have the most positives you get a lot of advertisments. Advertisements can probably simply be excluded from the search, using the 'category' column in the WoW database.\n",
        "- There are a lot of place names. Perhaps known place names could be added to the stopwords list, by harvesting them from geonames, for example?\n",
        "- Lots of the articles contain duplicate aboriginal words, e.g. a short story whose characters have aboriginal names, or a news story that refers repeatedly to the same place. So it is a good idea to keep only unique tokens for each article before running the model."
      ]
    }
  ]
}